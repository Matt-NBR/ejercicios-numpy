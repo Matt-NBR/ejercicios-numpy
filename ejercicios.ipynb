{
 "metadata": {
  "language_info": {
   "codemirror_mode": {
    "name": "ipython",
    "version": 3
   },
   "file_extension": ".py",
   "mimetype": "text/x-python",
   "name": "python",
   "nbconvert_exporter": "python",
   "pygments_lexer": "ipython3",
   "version": "3.9.5"
  },
  "orig_nbformat": 4,
  "kernelspec": {
   "name": "python3",
   "display_name": "Python 3.9.5 64-bit"
  },
  "interpreter": {
   "hash": "303635a4aef20df8f32cc84c7f74e3e48fce1ac7e37b6206e5ed4778cdc74d3b"
  }
 },
 "nbformat": 4,
 "nbformat_minor": 2,
 "cells": [
  {
   "cell_type": "code",
   "execution_count": 4,
   "metadata": {},
   "outputs": [],
   "source": [
    "import numpy as np"
   ]
  },
  {
   "cell_type": "code",
   "execution_count": 7,
   "metadata": {},
   "outputs": [
    {
     "output_type": "stream",
     "name": "stdout",
     "text": [
      "Resultado funcion 1:  [5. 3.]\nResultado funcion 2:  [5. 3.]\nResultado funcion 3:  [5. 3.]\nResultado funcion 4:  [5 3]\nResultado funcion 5:  [5. 3.]\n"
     ]
    }
   ],
   "source": [
    "#28\n",
    "# Extraiga la parte entera de un arreglo aleatorio utilizando 5 métodos diferentes\n",
    "dimension=int(input(\"Ingrese la dimesion del arreglo: \"))\n",
    "#Diseño de la matriz con la dimension dada al inicio\n",
    "matriz=np.random.uniform(0,10,dimension)\n",
    "#Se resta los elementos de la matriz con el resto del la division del matriz con 1\n",
    "metodo1=matriz - matriz%1\n",
    "#Se aplica la funcion floor la cual nos devuelve el entero mas cercano por abajode la matriz\n",
    "metodo2=np.floor(matriz)\n",
    "#Se aplica la funcion floor la cual nos devuelve el entero mas cercano por arriba de la matriz, por lo que se resta -1 \n",
    "metodo3=np.ceil(matriz)-1\n",
    "#Se aplica la funcion astype que cambia el tipo de dato\n",
    "metodo4=matriz.astype(int)\n",
    "#Se aplica la funcion trunc la cual nos permite redondear un numero\n",
    "metodo5 = np.trunc(matriz)\n",
    "#Impresion de los resultados de los diferentes métodos\n",
    "print(\"Resultado funcion 1: \", metodo1)\n",
    "print(\"Resultado funcion 2: \", metodo2)\n",
    "print(\"Resultado funcion 3: \", metodo3)\n",
    "print(\"Resultado funcion 4: \", metodo4)\n",
    "print(\"Resultado funcion 5: \", metodo5)"
   ]
  },
  {
   "cell_type": "code",
   "execution_count": 10,
   "metadata": {},
   "outputs": [
    {
     "output_type": "stream",
     "name": "stdout",
     "text": [
      "[[0. 1. 2. 3. 4.]\n [0. 1. 2. 3. 4.]\n [0. 1. 2. 3. 4.]\n [0. 1. 2. 3. 4.]\n [0. 1. 2. 3. 4.]]\n"
     ]
    }
   ],
   "source": [
    "#29\n",
    "#Crear una matriz 5x5 con valores de fila que van de 0 a 4\n",
    "matriz = np.zeros((5,5))\n",
    "#Primero creamos la matriz de 5x5 y con la funcion zeros toda la matriz se la llena con 0\n",
    "matriz +=np.arange(5)\n",
    "#Con la funcion arange vamos intercambiando los valores iniciales con numeros que van en un rango de 0 a 4\n",
    "print(matriz)"
   ]
  },
  {
   "cell_type": "code",
   "execution_count": 13,
   "metadata": {},
   "outputs": [
    {
     "output_type": "stream",
     "name": "stdout",
     "text": [
      "[0.09090909 0.18181818 0.27272727 0.36363636 0.45454545 0.54545455\n 0.63636364 0.72727273 0.81818182 0.90909091]\n"
     ]
    }
   ],
   "source": [
    "#31\n",
    "#Crear un vector de 10 con valores en un rango de 0 a 1, pero excluido el 0 y el 1\n",
    "matriz=np.linspace(0,1,12,endpoint=True)[1:-1]\n",
    "#Se utiliza la función linspace genera un array de n elementos, el valor inicial y el final \n",
    "print(matriz)\n"
   ]
  },
  {
   "cell_type": "code",
   "execution_count": 16,
   "metadata": {},
   "outputs": [
    {
     "output_type": "stream",
     "name": "stdout",
     "text": [
      "False\n"
     ]
    }
   ],
   "source": [
    "#34\n",
    "#Considere dos matrices aleatorias A y B, verifique si son iguales\n",
    "dimension = int(input(\"Ingrese las dimencion que corresponde a las dos matrices: \"))\n",
    "rango = int(input(\"Ingrese hasta que numero se almacenara en las matrices: \"))\n",
    "matriz1 = np.random.randint(0,rango,dimension)\n",
    "matriz2 = np.random.randint(0,rango,dimension)\n",
    "#Se procede a crear las matrices con numero randomicos dentro del rango que se ingrese y con la dimension que se elija \n",
    "equal = np.allclose(matriz1 ,matriz2)\n",
    "#Se utiliza la función allclose la cual compara cada uno de los elementos de los vectores y nos da como resultado un valor booleano el cual true indica que los arreglos son iguales y false que los arreglos no son iguales\n",
    "print(equal)"
   ]
  },
  {
   "cell_type": "code",
   "execution_count": 19,
   "metadata": {},
   "outputs": [
    {
     "output_type": "error",
     "ename": "ValueError",
     "evalue": "invalid literal for int() with base 10: ''",
     "traceback": [
      "\u001b[1;31m---------------------------------------------------------------------------\u001b[0m",
      "\u001b[1;31mValueError\u001b[0m                                Traceback (most recent call last)",
      "\u001b[1;32m<ipython-input-19-76483e46c5cb>\u001b[0m in \u001b[0;36m<module>\u001b[1;34m\u001b[0m\n\u001b[0;32m      1\u001b[0m \u001b[1;31m#41\u001b[0m\u001b[1;33m\u001b[0m\u001b[1;33m\u001b[0m\u001b[1;33m\u001b[0m\u001b[0m\n\u001b[0;32m      2\u001b[0m \u001b[1;31m#¿Como se puede imprimir todos los valores de un arreglo\u001b[0m\u001b[1;33m\u001b[0m\u001b[1;33m\u001b[0m\u001b[1;33m\u001b[0m\u001b[0m\n\u001b[1;32m----> 3\u001b[1;33m \u001b[0mdimensionx\u001b[0m \u001b[1;33m=\u001b[0m \u001b[0mint\u001b[0m\u001b[1;33m(\u001b[0m\u001b[0minput\u001b[0m\u001b[1;33m(\u001b[0m\u001b[1;34m\"Ingrese el numero de filas de la matriz: \"\u001b[0m\u001b[1;33m)\u001b[0m\u001b[1;33m)\u001b[0m\u001b[1;33m\u001b[0m\u001b[1;33m\u001b[0m\u001b[0m\n\u001b[0m\u001b[0;32m      4\u001b[0m \u001b[0mdimensiony\u001b[0m\u001b[1;33m=\u001b[0m \u001b[0mint\u001b[0m\u001b[1;33m(\u001b[0m\u001b[0minput\u001b[0m\u001b[1;33m(\u001b[0m\u001b[1;34m\"Ingrese el numero de columnas de la matriz: \"\u001b[0m\u001b[1;33m)\u001b[0m\u001b[1;33m)\u001b[0m\u001b[1;33m\u001b[0m\u001b[1;33m\u001b[0m\u001b[0m\n\u001b[0;32m      5\u001b[0m \u001b[0mnp\u001b[0m\u001b[1;33m.\u001b[0m\u001b[0mset_printoptions\u001b[0m\u001b[1;33m(\u001b[0m\u001b[0mthreshold\u001b[0m\u001b[1;33m=\u001b[0m\u001b[0mdimensiony\u001b[0m\u001b[1;33m)\u001b[0m\u001b[1;33m\u001b[0m\u001b[1;33m\u001b[0m\u001b[0m\n",
      "\u001b[1;31mValueError\u001b[0m: invalid literal for int() with base 10: ''"
     ]
    }
   ],
   "source": [
    "#41\n",
    "#¿Como se puede imprimir todos los valores de un arreglo\n",
    "dimensionx = int(input(\"Ingrese el numero de filas de la matriz: \"))\n",
    "dimensiony= int(input(\"Ingrese el numero de columnas de la matriz: \"))\n",
    "np.set_printoptions(threshold=dimensiony)\n",
    "#Se utiliza la funcion set_printoptions que \n",
    "#Se utliza la funcion treshold que \n",
    "matriz = np.zeros((dimensionx, dimensiony))\n",
    "print(matriz)"
   ]
  },
  {
   "cell_type": "code",
   "execution_count": 17,
   "metadata": {},
   "outputs": [
    {
     "output_type": "stream",
     "name": "stdout",
     "text": [
      "Vector dado: \n[1 5 4 ... 1 7 7]\nNumero de elementos indexados del vector dado sumados 1: \n[1 3 1 ... 3 1 3]\n"
     ]
    }
   ],
   "source": [
    "#55 \n",
    "#Se crea un arreglo de 10 elementos donde todos son 1\n",
    "A = np.ones(10, dtype=int) \n",
    "#Se crea un arreglo con 10 elementos aleatorios desde 1 hasta 10 (representado por la longitud de A)\n",
    "B = np.random.randint(1, len(A), 10) \n",
    "#Se indexa cada elemento de B contando sus ocurrencias y a estos indices se les suma 1\n",
    "A += np.bincount(B, minlength=len(A))\n",
    "print(\"Vector dado: \")\n",
    "print(B)\n",
    "print(\"Numero de elementos indexados del vector dado sumados 1: \")\n",
    "print(A) "
   ]
  },
  {
   "cell_type": "code",
   "execution_count": null,
   "metadata": {},
   "outputs": [],
   "source": [
    "#80\n",
    "#Se crea un arreglo aleatorio de las dimensiones deseadas\n",
    "A = np.random.randint(1, 100, 20)\n",
    "#Se selecciona el numero de valores a mostrar\n",
    "n = 3\n",
    "#Se imprime el arreglo\n",
    "print(A)\n",
    "#Se imprime los n mayores valores del arreglo\n",
    "#Se uso argsort para ordenar de menor a mayor el arreglo\n",
    "#De este arreglo ordenado se eligio mostrar los n ultimos elementos\n",
    "print(A[np.argsort(A)[-n:]])"
   ]
  },
  {
   "cell_type": "code",
   "execution_count": null,
   "metadata": {},
   "outputs": [],
   "source": [
    "#82\n",
    "#Se crea un arreglo estructurado\n",
    "A = np.array([(\"Python\", 2.9, 1), (\"Rocks\", 4.6, 7)])\n",
    "#Se utiliza esta funcion para transformar un arreglo estructurado a un arreglo de records\n",
    "B = np.core.records.fromarrays(A.T, names='col1, col2, col3', formats = 'S8, f8, i8')\n",
    "#Un arreglo de records se diferencia en que se puede acceder a sus valores de forma individual o segun grupos de nombres\n",
    "#Tambien se puede acceder segun tipos de datos, pero en este ejemplo estos no estan definidos\n",
    "print(B[0])\n",
    "print(B.col1)\n",
    "print(B.col2[0])\n",
    "print(B.col3[1])"
   ]
  },
  {
   "cell_type": "code",
   "execution_count": null,
   "metadata": {},
   "outputs": [],
   "source": [
    "#83\n",
    "#Se crea un arreglo de 1 millon de elementos aleatorios\n",
    "A = np.random.rand(1000000)\n",
    "#Se usa %timeit para medir cuanto tarda cada operacion\n",
    "#Potencia utilizando la funcion power\n",
    "print(\"tiempo con power()\")\n",
    "%timeit np.power(A, 3)\n",
    "#Potencia utilizando multiplicacion simple\n",
    "print(\"tiempo multiplicando\")\n",
    "%timeit A*A*A\n",
    "#Potencia multiplicando con einsum\n",
    "print(\"tiempo multiplicando con einsum\")\n",
    "%timeit np.einsum('i,i,i->i',A,A,A)"
   ]
  },
  {
   "cell_type": "code",
   "execution_count": null,
   "metadata": {},
   "outputs": [],
   "source": [
    "#85\n",
    "#Creando un arreglo aleatorio de 10x3\n",
    "A = np.random.randint(0,5,(10,3))\n",
    "#Identificando las filas con elementos iguales\n",
    "B = np.logical_and.reduce(A[:,1:] == A[:,:-1], axis=1)\n",
    "#Imprimiendo el arreglo menos las filas iguales\n",
    "C = A[~B]\n",
    "print(\"Arreglo original:\")\n",
    "print(A)\n",
    "print(\"\\nArreglo omitiendo filas con elementos iguales:\")\n",
    "print(C)"
   ]
  },
  {
   "cell_type": "code",
   "execution_count": 24,
   "metadata": {},
   "outputs": [
    {
     "output_type": "stream",
     "name": "stdout",
     "text": [
      "[25.  12.  15.  66.  12.5]\n"
     ]
    }
   ],
   "source": [
    "lista=[25,12,15,66,12.5] \n",
    "vector=np.array(lista) \n",
    "print(vector)"
   ]
  },
  {
   "cell_type": "code",
   "execution_count": 25,
   "metadata": {},
   "outputs": [
    {
     "output_type": "stream",
     "name": "stdout",
     "text": [
      "[25. 12. 15. 66.]\n"
     ]
    }
   ],
   "source": [
    "print(vector[:4])"
   ]
  },
  {
   "cell_type": "code",
   "execution_count": null,
   "metadata": {},
   "outputs": [],
   "source": []
  }
 ]
}